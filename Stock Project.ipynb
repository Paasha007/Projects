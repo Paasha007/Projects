{
 "cells": [
  {
   "cell_type": "markdown",
   "id": "b8d869e7-ccfb-4494-81a2-82003a897a18",
   "metadata": {},
   "source": [
    "# Stock Market Analysis"
   ]
  },
  {
   "cell_type": "markdown",
   "id": "0a2a87c9-8e42-4218-8367-d63cdf16d272",
   "metadata": {},
   "source": [
    "#### Objective : \n",
    " This project aims to analyze stock market trends using Python by leveraging historical data, visualizations, and key financial indicators. It will help in identifying patterns, predicting potential market movements, and providing insights for informed investment decisions.\n"
   ]
  },
  {
   "cell_type": "markdown",
   "id": "0fafeacb-4410-479c-967b-1d3ba73660f7",
   "metadata": {},
   "source": [
    "### Import Libraries"
   ]
  },
  {
   "cell_type": "code",
   "execution_count": 3,
   "id": "6e409ded-8200-4d32-95eb-26d92e2ffabc",
   "metadata": {},
   "outputs": [],
   "source": [
    "import pandas as pd\n",
    "import numpy as np\n",
    "import seaborn as sns\n",
    "import matplotlib.pyplot as plt"
   ]
  },
  {
   "cell_type": "markdown",
   "id": "202dce26-2bf7-4b16-8994-27c9ef24a8c4",
   "metadata": {},
   "source": [
    "### Data collection"
   ]
  },
  {
   "cell_type": "code",
   "execution_count": 5,
   "id": "6bca170b-d54d-4dbe-bfb5-8b6a3c96dc05",
   "metadata": {},
   "outputs": [],
   "source": [
    "df_stock = pd.read_csv('stocks.csv')"
   ]
  },
  {
   "cell_type": "code",
   "execution_count": 6,
   "id": "b762695f-539f-42b3-9991-5513a2167bf9",
   "metadata": {},
   "outputs": [
    {
     "name": "stdout",
     "output_type": "stream",
     "text": [
      "<class 'pandas.core.frame.DataFrame'>\n",
      "RangeIndex: 248 entries, 0 to 247\n",
      "Data columns (total 8 columns):\n",
      " #   Column     Non-Null Count  Dtype  \n",
      "---  ------     --------------  -----  \n",
      " 0   Ticker     248 non-null    object \n",
      " 1   Date       248 non-null    object \n",
      " 2   Open       248 non-null    float64\n",
      " 3   High       248 non-null    float64\n",
      " 4   Low        248 non-null    float64\n",
      " 5   Close      248 non-null    float64\n",
      " 6   Adj Close  248 non-null    float64\n",
      " 7   Volume     248 non-null    int64  \n",
      "dtypes: float64(5), int64(1), object(2)\n",
      "memory usage: 15.6+ KB\n"
     ]
    }
   ],
   "source": [
    "df_stock.info()"
   ]
  },
  {
   "cell_type": "code",
   "execution_count": 16,
   "id": "0fd1c5e1-0bdf-4c53-81f8-a582b2d106f7",
   "metadata": {},
   "outputs": [
    {
     "data": {
      "text/plain": [
       "Index(['Ticker', 'Date', 'Open', 'High', 'Low', 'Close', 'Adj Close',\n",
       "       'Volume'],\n",
       "      dtype='object')"
      ]
     },
     "execution_count": 16,
     "metadata": {},
     "output_type": "execute_result"
    }
   ],
   "source": [
    "df_stock.columns"
   ]
  },
  {
   "cell_type": "code",
   "execution_count": 27,
   "id": "af1308f9-d58e-4826-842e-9836d592df05",
   "metadata": {},
   "outputs": [
    {
     "data": {
      "text/html": [
       "<div>\n",
       "<style scoped>\n",
       "    .dataframe tbody tr th:only-of-type {\n",
       "        vertical-align: middle;\n",
       "    }\n",
       "\n",
       "    .dataframe tbody tr th {\n",
       "        vertical-align: top;\n",
       "    }\n",
       "\n",
       "    .dataframe thead th {\n",
       "        text-align: right;\n",
       "    }\n",
       "</style>\n",
       "<table border=\"1\" class=\"dataframe\">\n",
       "  <thead>\n",
       "    <tr style=\"text-align: right;\">\n",
       "      <th></th>\n",
       "      <th>Ticker</th>\n",
       "      <th>Date</th>\n",
       "      <th>Open</th>\n",
       "      <th>High</th>\n",
       "      <th>Low</th>\n",
       "      <th>Close</th>\n",
       "      <th>Adj Close</th>\n",
       "      <th>Volume</th>\n",
       "    </tr>\n",
       "  </thead>\n",
       "  <tbody>\n",
       "    <tr>\n",
       "      <th>0</th>\n",
       "      <td>AAPL</td>\n",
       "      <td>2023-02-07</td>\n",
       "      <td>150.639999</td>\n",
       "      <td>155.229996</td>\n",
       "      <td>150.639999</td>\n",
       "      <td>154.649994</td>\n",
       "      <td>154.414230</td>\n",
       "      <td>83322600</td>\n",
       "    </tr>\n",
       "    <tr>\n",
       "      <th>1</th>\n",
       "      <td>AAPL</td>\n",
       "      <td>2023-02-08</td>\n",
       "      <td>153.880005</td>\n",
       "      <td>154.580002</td>\n",
       "      <td>151.169998</td>\n",
       "      <td>151.919998</td>\n",
       "      <td>151.688400</td>\n",
       "      <td>64120100</td>\n",
       "    </tr>\n",
       "    <tr>\n",
       "      <th>2</th>\n",
       "      <td>AAPL</td>\n",
       "      <td>2023-02-09</td>\n",
       "      <td>153.779999</td>\n",
       "      <td>154.330002</td>\n",
       "      <td>150.419998</td>\n",
       "      <td>150.869995</td>\n",
       "      <td>150.639999</td>\n",
       "      <td>56007100</td>\n",
       "    </tr>\n",
       "    <tr>\n",
       "      <th>3</th>\n",
       "      <td>AAPL</td>\n",
       "      <td>2023-02-10</td>\n",
       "      <td>149.460007</td>\n",
       "      <td>151.339996</td>\n",
       "      <td>149.220001</td>\n",
       "      <td>151.009995</td>\n",
       "      <td>151.009995</td>\n",
       "      <td>57450700</td>\n",
       "    </tr>\n",
       "    <tr>\n",
       "      <th>4</th>\n",
       "      <td>AAPL</td>\n",
       "      <td>2023-02-13</td>\n",
       "      <td>150.949997</td>\n",
       "      <td>154.259995</td>\n",
       "      <td>150.919998</td>\n",
       "      <td>153.850006</td>\n",
       "      <td>153.850006</td>\n",
       "      <td>62199000</td>\n",
       "    </tr>\n",
       "    <tr>\n",
       "      <th>...</th>\n",
       "      <td>...</td>\n",
       "      <td>...</td>\n",
       "      <td>...</td>\n",
       "      <td>...</td>\n",
       "      <td>...</td>\n",
       "      <td>...</td>\n",
       "      <td>...</td>\n",
       "      <td>...</td>\n",
       "    </tr>\n",
       "    <tr>\n",
       "      <th>243</th>\n",
       "      <td>GOOG</td>\n",
       "      <td>2023-05-01</td>\n",
       "      <td>107.720001</td>\n",
       "      <td>108.680000</td>\n",
       "      <td>107.500000</td>\n",
       "      <td>107.709999</td>\n",
       "      <td>107.709999</td>\n",
       "      <td>20926300</td>\n",
       "    </tr>\n",
       "    <tr>\n",
       "      <th>244</th>\n",
       "      <td>GOOG</td>\n",
       "      <td>2023-05-02</td>\n",
       "      <td>107.660004</td>\n",
       "      <td>107.730003</td>\n",
       "      <td>104.500000</td>\n",
       "      <td>105.980003</td>\n",
       "      <td>105.980003</td>\n",
       "      <td>20343100</td>\n",
       "    </tr>\n",
       "    <tr>\n",
       "      <th>245</th>\n",
       "      <td>GOOG</td>\n",
       "      <td>2023-05-03</td>\n",
       "      <td>106.220001</td>\n",
       "      <td>108.129997</td>\n",
       "      <td>105.620003</td>\n",
       "      <td>106.120003</td>\n",
       "      <td>106.120003</td>\n",
       "      <td>17116300</td>\n",
       "    </tr>\n",
       "    <tr>\n",
       "      <th>246</th>\n",
       "      <td>GOOG</td>\n",
       "      <td>2023-05-04</td>\n",
       "      <td>106.160004</td>\n",
       "      <td>106.300003</td>\n",
       "      <td>104.699997</td>\n",
       "      <td>105.209999</td>\n",
       "      <td>105.209999</td>\n",
       "      <td>19780600</td>\n",
       "    </tr>\n",
       "    <tr>\n",
       "      <th>247</th>\n",
       "      <td>GOOG</td>\n",
       "      <td>2023-05-05</td>\n",
       "      <td>105.320000</td>\n",
       "      <td>106.440002</td>\n",
       "      <td>104.738998</td>\n",
       "      <td>106.214996</td>\n",
       "      <td>106.214996</td>\n",
       "      <td>20705300</td>\n",
       "    </tr>\n",
       "  </tbody>\n",
       "</table>\n",
       "<p>248 rows × 8 columns</p>\n",
       "</div>"
      ],
      "text/plain": [
       "    Ticker        Date        Open        High         Low       Close  \\\n",
       "0     AAPL  2023-02-07  150.639999  155.229996  150.639999  154.649994   \n",
       "1     AAPL  2023-02-08  153.880005  154.580002  151.169998  151.919998   \n",
       "2     AAPL  2023-02-09  153.779999  154.330002  150.419998  150.869995   \n",
       "3     AAPL  2023-02-10  149.460007  151.339996  149.220001  151.009995   \n",
       "4     AAPL  2023-02-13  150.949997  154.259995  150.919998  153.850006   \n",
       "..     ...         ...         ...         ...         ...         ...   \n",
       "243   GOOG  2023-05-01  107.720001  108.680000  107.500000  107.709999   \n",
       "244   GOOG  2023-05-02  107.660004  107.730003  104.500000  105.980003   \n",
       "245   GOOG  2023-05-03  106.220001  108.129997  105.620003  106.120003   \n",
       "246   GOOG  2023-05-04  106.160004  106.300003  104.699997  105.209999   \n",
       "247   GOOG  2023-05-05  105.320000  106.440002  104.738998  106.214996   \n",
       "\n",
       "      Adj Close    Volume  \n",
       "0    154.414230  83322600  \n",
       "1    151.688400  64120100  \n",
       "2    150.639999  56007100  \n",
       "3    151.009995  57450700  \n",
       "4    153.850006  62199000  \n",
       "..          ...       ...  \n",
       "243  107.709999  20926300  \n",
       "244  105.980003  20343100  \n",
       "245  106.120003  17116300  \n",
       "246  105.209999  19780600  \n",
       "247  106.214996  20705300  \n",
       "\n",
       "[248 rows x 8 columns]"
      ]
     },
     "execution_count": 27,
     "metadata": {},
     "output_type": "execute_result"
    }
   ],
   "source": [
    "df_stock"
   ]
  },
  {
   "cell_type": "code",
   "execution_count": 5,
   "id": "dcb7668b-2c92-4fae-9e56-826d64558719",
   "metadata": {},
   "outputs": [
    {
     "data": {
      "text/html": [
       "<div>\n",
       "<style scoped>\n",
       "    .dataframe tbody tr th:only-of-type {\n",
       "        vertical-align: middle;\n",
       "    }\n",
       "\n",
       "    .dataframe tbody tr th {\n",
       "        vertical-align: top;\n",
       "    }\n",
       "\n",
       "    .dataframe thead th {\n",
       "        text-align: right;\n",
       "    }\n",
       "</style>\n",
       "<table border=\"1\" class=\"dataframe\">\n",
       "  <thead>\n",
       "    <tr style=\"text-align: right;\">\n",
       "      <th></th>\n",
       "      <th>Ticker</th>\n",
       "      <th>Date</th>\n",
       "      <th>Open</th>\n",
       "      <th>High</th>\n",
       "      <th>Low</th>\n",
       "      <th>Close</th>\n",
       "      <th>Adj Close</th>\n",
       "      <th>Volume</th>\n",
       "    </tr>\n",
       "  </thead>\n",
       "  <tbody>\n",
       "    <tr>\n",
       "      <th>0</th>\n",
       "      <td>AAPL</td>\n",
       "      <td>2023-02-07</td>\n",
       "      <td>150.639999</td>\n",
       "      <td>155.229996</td>\n",
       "      <td>150.639999</td>\n",
       "      <td>154.649994</td>\n",
       "      <td>154.414230</td>\n",
       "      <td>83322600</td>\n",
       "    </tr>\n",
       "    <tr>\n",
       "      <th>1</th>\n",
       "      <td>AAPL</td>\n",
       "      <td>2023-02-08</td>\n",
       "      <td>153.880005</td>\n",
       "      <td>154.580002</td>\n",
       "      <td>151.169998</td>\n",
       "      <td>151.919998</td>\n",
       "      <td>151.688400</td>\n",
       "      <td>64120100</td>\n",
       "    </tr>\n",
       "    <tr>\n",
       "      <th>2</th>\n",
       "      <td>AAPL</td>\n",
       "      <td>2023-02-09</td>\n",
       "      <td>153.779999</td>\n",
       "      <td>154.330002</td>\n",
       "      <td>150.419998</td>\n",
       "      <td>150.869995</td>\n",
       "      <td>150.639999</td>\n",
       "      <td>56007100</td>\n",
       "    </tr>\n",
       "    <tr>\n",
       "      <th>3</th>\n",
       "      <td>AAPL</td>\n",
       "      <td>2023-02-10</td>\n",
       "      <td>149.460007</td>\n",
       "      <td>151.339996</td>\n",
       "      <td>149.220001</td>\n",
       "      <td>151.009995</td>\n",
       "      <td>151.009995</td>\n",
       "      <td>57450700</td>\n",
       "    </tr>\n",
       "    <tr>\n",
       "      <th>4</th>\n",
       "      <td>AAPL</td>\n",
       "      <td>2023-02-13</td>\n",
       "      <td>150.949997</td>\n",
       "      <td>154.259995</td>\n",
       "      <td>150.919998</td>\n",
       "      <td>153.850006</td>\n",
       "      <td>153.850006</td>\n",
       "      <td>62199000</td>\n",
       "    </tr>\n",
       "  </tbody>\n",
       "</table>\n",
       "</div>"
      ],
      "text/plain": [
       "  Ticker        Date        Open        High         Low       Close  \\\n",
       "0   AAPL  2023-02-07  150.639999  155.229996  150.639999  154.649994   \n",
       "1   AAPL  2023-02-08  153.880005  154.580002  151.169998  151.919998   \n",
       "2   AAPL  2023-02-09  153.779999  154.330002  150.419998  150.869995   \n",
       "3   AAPL  2023-02-10  149.460007  151.339996  149.220001  151.009995   \n",
       "4   AAPL  2023-02-13  150.949997  154.259995  150.919998  153.850006   \n",
       "\n",
       "    Adj Close    Volume  \n",
       "0  154.414230  83322600  \n",
       "1  151.688400  64120100  \n",
       "2  150.639999  56007100  \n",
       "3  151.009995  57450700  \n",
       "4  153.850006  62199000  "
      ]
     },
     "execution_count": 5,
     "metadata": {},
     "output_type": "execute_result"
    }
   ],
   "source": [
    "df_stock.head(5)   # to check the top 5 rows of the table"
   ]
  },
  {
   "cell_type": "code",
   "execution_count": 6,
   "id": "8e3e997e-3a14-4d71-82e5-6c4ee02b1b43",
   "metadata": {},
   "outputs": [
    {
     "data": {
      "text/plain": [
       "(248, 8)"
      ]
     },
     "execution_count": 6,
     "metadata": {},
     "output_type": "execute_result"
    }
   ],
   "source": [
    "df_stock.shape    # to check the shape of the data"
   ]
  },
  {
   "cell_type": "code",
   "execution_count": 12,
   "id": "4285e870-e338-41f1-b30d-dacb90f0ce24",
   "metadata": {},
   "outputs": [
    {
     "data": {
      "text/plain": [
       "Ticker       0\n",
       "Date         0\n",
       "Open         0\n",
       "High         0\n",
       "Low          0\n",
       "Close        0\n",
       "Adj Close    0\n",
       "Volume       0\n",
       "dtype: int64"
      ]
     },
     "execution_count": 12,
     "metadata": {},
     "output_type": "execute_result"
    }
   ],
   "source": [
    "pd.isnull(df_stock).sum()"
   ]
  },
  {
   "cell_type": "code",
   "execution_count": 7,
   "id": "66a68fcf-6b1e-406f-9cca-feca3ad1b1d9",
   "metadata": {},
   "outputs": [],
   "source": [
    "df_stock = df_stock.dropna()     # To Handle missing values"
   ]
  },
  {
   "cell_type": "code",
   "execution_count": 17,
   "id": "24193902-fdcb-4e54-b6ab-a028cfb7e002",
   "metadata": {},
   "outputs": [
    {
     "data": {
      "text/plain": [
       "7956361800"
      ]
     },
     "execution_count": 17,
     "metadata": {},
     "output_type": "execute_result"
    }
   ],
   "source": [
    "df_stock['Volume'].sum()        # Sum of total Volumn "
   ]
  },
  {
   "cell_type": "code",
   "execution_count": 21,
   "id": "0d6e6fc4-a350-4079-85cc-bfe53977c22a",
   "metadata": {},
   "outputs": [
    {
     "data": {
      "text/plain": [
       "54044.07611846924"
      ]
     },
     "execution_count": 21,
     "metadata": {},
     "output_type": "execute_result"
    }
   ],
   "source": [
    "df_stock['High'].sum() "
   ]
  },
  {
   "cell_type": "code",
   "execution_count": 23,
   "id": "8f69747c-9148-4670-a3a3-85a5bc503b1b",
   "metadata": {},
   "outputs": [
    {
     "data": {
      "text/plain": [
       "52748.96798706055"
      ]
     },
     "execution_count": 23,
     "metadata": {},
     "output_type": "execute_result"
    }
   ],
   "source": [
    "df_stock['Low'].sum() "
   ]
  },
  {
   "cell_type": "code",
   "execution_count": 18,
   "id": "437c6117-e5f4-432b-bc7d-2584e9391a1a",
   "metadata": {},
   "outputs": [
    {
     "data": {
      "text/html": [
       "<div>\n",
       "<style scoped>\n",
       "    .dataframe tbody tr th:only-of-type {\n",
       "        vertical-align: middle;\n",
       "    }\n",
       "\n",
       "    .dataframe tbody tr th {\n",
       "        vertical-align: top;\n",
       "    }\n",
       "\n",
       "    .dataframe thead th {\n",
       "        text-align: right;\n",
       "    }\n",
       "</style>\n",
       "<table border=\"1\" class=\"dataframe\">\n",
       "  <thead>\n",
       "    <tr style=\"text-align: right;\">\n",
       "      <th></th>\n",
       "      <th>Open</th>\n",
       "      <th>High</th>\n",
       "      <th>Low</th>\n",
       "      <th>Close</th>\n",
       "      <th>Adj Close</th>\n",
       "      <th>Volume</th>\n",
       "    </tr>\n",
       "  </thead>\n",
       "  <tbody>\n",
       "    <tr>\n",
       "      <th>count</th>\n",
       "      <td>248.000000</td>\n",
       "      <td>248.000000</td>\n",
       "      <td>248.000000</td>\n",
       "      <td>248.000000</td>\n",
       "      <td>248.000000</td>\n",
       "      <td>2.480000e+02</td>\n",
       "    </tr>\n",
       "    <tr>\n",
       "      <th>mean</th>\n",
       "      <td>215.252093</td>\n",
       "      <td>217.919662</td>\n",
       "      <td>212.697452</td>\n",
       "      <td>215.381674</td>\n",
       "      <td>215.362697</td>\n",
       "      <td>3.208210e+07</td>\n",
       "    </tr>\n",
       "    <tr>\n",
       "      <th>std</th>\n",
       "      <td>91.691315</td>\n",
       "      <td>92.863023</td>\n",
       "      <td>90.147881</td>\n",
       "      <td>91.461989</td>\n",
       "      <td>91.454750</td>\n",
       "      <td>2.233590e+07</td>\n",
       "    </tr>\n",
       "    <tr>\n",
       "      <th>min</th>\n",
       "      <td>89.540001</td>\n",
       "      <td>90.129997</td>\n",
       "      <td>88.860001</td>\n",
       "      <td>89.349998</td>\n",
       "      <td>89.349998</td>\n",
       "      <td>2.657900e+06</td>\n",
       "    </tr>\n",
       "    <tr>\n",
       "      <th>25%</th>\n",
       "      <td>135.235004</td>\n",
       "      <td>137.440004</td>\n",
       "      <td>134.822495</td>\n",
       "      <td>136.347498</td>\n",
       "      <td>136.347498</td>\n",
       "      <td>1.714180e+07</td>\n",
       "    </tr>\n",
       "    <tr>\n",
       "      <th>50%</th>\n",
       "      <td>208.764999</td>\n",
       "      <td>212.614998</td>\n",
       "      <td>208.184998</td>\n",
       "      <td>209.920006</td>\n",
       "      <td>209.920006</td>\n",
       "      <td>2.734000e+07</td>\n",
       "    </tr>\n",
       "    <tr>\n",
       "      <th>75%</th>\n",
       "      <td>304.177505</td>\n",
       "      <td>307.565002</td>\n",
       "      <td>295.437500</td>\n",
       "      <td>303.942505</td>\n",
       "      <td>303.942505</td>\n",
       "      <td>4.771772e+07</td>\n",
       "    </tr>\n",
       "    <tr>\n",
       "      <th>max</th>\n",
       "      <td>372.410004</td>\n",
       "      <td>373.829987</td>\n",
       "      <td>361.739990</td>\n",
       "      <td>366.829987</td>\n",
       "      <td>366.829987</td>\n",
       "      <td>1.133164e+08</td>\n",
       "    </tr>\n",
       "  </tbody>\n",
       "</table>\n",
       "</div>"
      ],
      "text/plain": [
       "             Open        High         Low       Close   Adj Close  \\\n",
       "count  248.000000  248.000000  248.000000  248.000000  248.000000   \n",
       "mean   215.252093  217.919662  212.697452  215.381674  215.362697   \n",
       "std     91.691315   92.863023   90.147881   91.461989   91.454750   \n",
       "min     89.540001   90.129997   88.860001   89.349998   89.349998   \n",
       "25%    135.235004  137.440004  134.822495  136.347498  136.347498   \n",
       "50%    208.764999  212.614998  208.184998  209.920006  209.920006   \n",
       "75%    304.177505  307.565002  295.437500  303.942505  303.942505   \n",
       "max    372.410004  373.829987  361.739990  366.829987  366.829987   \n",
       "\n",
       "             Volume  \n",
       "count  2.480000e+02  \n",
       "mean   3.208210e+07  \n",
       "std    2.233590e+07  \n",
       "min    2.657900e+06  \n",
       "25%    1.714180e+07  \n",
       "50%    2.734000e+07  \n",
       "75%    4.771772e+07  \n",
       "max    1.133164e+08  "
      ]
     },
     "execution_count": 18,
     "metadata": {},
     "output_type": "execute_result"
    }
   ],
   "source": [
    "df_stock.describe()    ### to describe the table"
   ]
  },
  {
   "cell_type": "markdown",
   "id": "aa43993c-3202-43fb-bad8-abaa9c1290ab",
   "metadata": {},
   "source": [
    "#Used the function .describe() to know more details/findings about the table such as:\n",
    "Count,Mean,Standard Deviation, Minimum & Maximum, 25% , 50% , 75%"
   ]
  },
  {
   "cell_type": "markdown",
   "id": "79ae2e3d-a7b0-4892-a805-dc16da75c404",
   "metadata": {},
   "source": [
    "### Exploratory Data Analysis "
   ]
  },
  {
   "cell_type": "markdown",
   "id": "6e342f58-62e5-49db-8d70-d4040a807473",
   "metadata": {},
   "source": [
    "#### Bar Plot"
   ]
  },
  {
   "cell_type": "code",
   "execution_count": 102,
   "id": "275eb307-2127-4436-91cb-47f156e45471",
   "metadata": {},
   "outputs": [
    {
     "data": {
      "image/png": "[encoded data removed]",
      "text/plain": [
       "<Figure size 1500x500 with 1 Axes>"
      ]
     },
     "metadata": {},
     "output_type": "display_data"
    }
   ],
   "source": [
    "sns.barplot(data = df_stock, y = 'High', hue = 'Ticker')\n",
    "plt.title('High')\n",
    "plt.show()"
   ]
  },
  {
   "cell_type": "markdown",
   "id": "4246b0b5-3785-43c2-ac08-dd8368267746",
   "metadata": {},
   "source": [
    "From the above graph we can assume that, the Stock [NFLX] has the highest values and the stock [GOOG] is the lowest while the Stocks [MSFT] and [AAPL] share the 2nd and 3rd spot respectively considering the high stock values."
   ]
  },
  {
   "cell_type": "code",
   "execution_count": 22,
   "id": "605ad0a8-674c-4372-9366-d863ded823e5",
   "metadata": {},
   "outputs": [
    {
     "data": {
      "image/png": "[encoded data removed]",
      "text/plain": [
       "<Figure size 640x480 with 1 Axes>"
      ]
     },
     "metadata": {},
     "output_type": "display_data"
    }
   ],
   "source": [
    "sns.barplot(data = df_stock, y = 'Low', hue = 'Ticker')\n",
    "plt.title('Low')\n",
    "plt.show()"
   ]
  },
  {
   "cell_type": "markdown",
   "id": "830458eb-baac-4dce-a3ad-87d93971707b",
   "metadata": {},
   "source": [
    "From the above graph we can assume that, the Stock [NFLX] has the highest values and the stock [GOOG] is the lowest while the Stocks [MSFT] and [AAPL] share the 2nd and 3rd spot respectively considering the LOW stock values."
   ]
  },
  {
   "cell_type": "markdown",
   "id": "d3101b90-8e93-47fc-8200-b21cb911423f",
   "metadata": {},
   "source": [
    "#### KDE Plot"
   ]
  },
  {
   "cell_type": "code",
   "execution_count": 34,
   "id": "46eb229c-c76f-4314-8663-02c24eea7166",
   "metadata": {},
   "outputs": [
    {
     "data": {
      "text/plain": [
       "<Axes: xlabel='Volume', ylabel='Density'>"
      ]
     },
     "execution_count": 34,
     "metadata": {},
     "output_type": "execute_result"
    },
    {
     "data": {
      "image/png": "[encoded data removed]",
      "text/plain": [
       "<Figure size 1500x800 with 1 Axes>"
      ]
     },
     "metadata": {},
     "output_type": "display_data"
    }
   ],
   "source": [
    "plt.figure(figsize = (15,8))\n",
    "sns.kdeplot(data=df_stock, x='Volume')"
   ]
  },
  {
   "cell_type": "markdown",
   "id": "830fc989-b32c-428d-944a-f7179776f354",
   "metadata": {},
   "source": [
    "From the above kde plot , we can find out that volume of the stock is more between 0.2 to 0.4"
   ]
  },
  {
   "cell_type": "markdown",
   "id": "6a6b29b0-0194-483a-bb48-777a6415e789",
   "metadata": {},
   "source": [
    "#### Correlation"
   ]
  },
  {
   "cell_type": "code",
   "execution_count": 40,
   "id": "65b5ae63-5add-4f53-bff6-4e82edc83199",
   "metadata": {},
   "outputs": [],
   "source": [
    "s = df_stock[['Open','Close','High','Low']].corr()"
   ]
  },
  {
   "cell_type": "code",
   "execution_count": 42,
   "id": "52d71dd0-c00e-40ba-932f-c4bcfcffee25",
   "metadata": {},
   "outputs": [
    {
     "data": {
      "text/html": [
       "<div>\n",
       "<style scoped>\n",
       "    .dataframe tbody tr th:only-of-type {\n",
       "        vertical-align: middle;\n",
       "    }\n",
       "\n",
       "    .dataframe tbody tr th {\n",
       "        vertical-align: top;\n",
       "    }\n",
       "\n",
       "    .dataframe thead th {\n",
       "        text-align: right;\n",
       "    }\n",
       "</style>\n",
       "<table border=\"1\" class=\"dataframe\">\n",
       "  <thead>\n",
       "    <tr style=\"text-align: right;\">\n",
       "      <th></th>\n",
       "      <th>Open</th>\n",
       "      <th>Close</th>\n",
       "      <th>High</th>\n",
       "      <th>Low</th>\n",
       "    </tr>\n",
       "  </thead>\n",
       "  <tbody>\n",
       "    <tr>\n",
       "      <th>Open</th>\n",
       "      <td>1.000000</td>\n",
       "      <td>0.999176</td>\n",
       "      <td>0.999626</td>\n",
       "      <td>0.999650</td>\n",
       "    </tr>\n",
       "    <tr>\n",
       "      <th>Close</th>\n",
       "      <td>0.999176</td>\n",
       "      <td>1.000000</td>\n",
       "      <td>0.999644</td>\n",
       "      <td>0.999663</td>\n",
       "    </tr>\n",
       "    <tr>\n",
       "      <th>High</th>\n",
       "      <td>0.999626</td>\n",
       "      <td>0.999644</td>\n",
       "      <td>1.000000</td>\n",
       "      <td>0.999654</td>\n",
       "    </tr>\n",
       "    <tr>\n",
       "      <th>Low</th>\n",
       "      <td>0.999650</td>\n",
       "      <td>0.999663</td>\n",
       "      <td>0.999654</td>\n",
       "      <td>1.000000</td>\n",
       "    </tr>\n",
       "  </tbody>\n",
       "</table>\n",
       "</div>"
      ],
      "text/plain": [
       "           Open     Close      High       Low\n",
       "Open   1.000000  0.999176  0.999626  0.999650\n",
       "Close  0.999176  1.000000  0.999644  0.999663\n",
       "High   0.999626  0.999644  1.000000  0.999654\n",
       "Low    0.999650  0.999663  0.999654  1.000000"
      ]
     },
     "execution_count": 42,
     "metadata": {},
     "output_type": "execute_result"
    }
   ],
   "source": [
    "s"
   ]
  },
  {
   "cell_type": "markdown",
   "id": "75cb5611-b5a8-4cb0-b03f-522cb53cc578",
   "metadata": {},
   "source": [
    "#### Heatmap"
   ]
  },
  {
   "cell_type": "code",
   "execution_count": 52,
   "id": "cb7e0c1d-18d2-4c53-913b-f27fa66b93ed",
   "metadata": {},
   "outputs": [
    {
     "data": {
      "text/plain": [
       "<Axes: >"
      ]
     },
     "execution_count": 52,
     "metadata": {},
     "output_type": "execute_result"
    },
    {
     "data": {
      "image/png": "[encoded data removed]",
      "text/plain": [
       "<Figure size 1500x800 with 2 Axes>"
      ]
     },
     "metadata": {},
     "output_type": "display_data"
    }
   ],
   "source": [
    "plt.figure(figsize = (15,8) )\n",
    "sns.heatmap(s,annot = True, linewidths =.5)"
   ]
  },
  {
   "cell_type": "markdown",
   "id": "e123f528-acd6-4092-8db3-0bff79c80b99",
   "metadata": {},
   "source": [
    "#### Point Plot"
   ]
  },
  {
   "cell_type": "code",
   "execution_count": 58,
   "id": "1de9a703-8cb3-418a-ac29-f19f0ab3d555",
   "metadata": {},
   "outputs": [
    {
     "data": {
      "text/plain": [
       "<Axes: xlabel='Ticker', ylabel='Volume'>"
      ]
     },
     "execution_count": 58,
     "metadata": {},
     "output_type": "execute_result"
    },
    {
     "data": {
      "image/png": "[encoded data removed]",
      "text/plain": [
       "<Figure size 1500x800 with 1 Axes>"
      ]
     },
     "metadata": {},
     "output_type": "display_data"
    }
   ],
   "source": [
    "sns.set_theme(style = 'darkgrid')\n",
    "plt.figure(figsize = (15,8))\n",
    "sns.pointplot(data=df_stock, x='Ticker', y='Volume', dodge=True)"
   ]
  },
  {
   "cell_type": "markdown",
   "id": "36ee81b6-b9de-41ac-b173-d7e4a4342b26",
   "metadata": {},
   "source": [
    "From the above graph , we can note that the Stock {NFLX} has lowest in terms of volume"
   ]
  },
  {
   "cell_type": "markdown",
   "id": "fb47754a-b5a7-42fb-a27d-10bbf6c147f2",
   "metadata": {},
   "source": [
    "### Conclusion:"
   ]
  },
  {
   "cell_type": "markdown",
   "id": "560f0bc9-2b66-4d01-93a7-c7ebb555b36f",
   "metadata": {},
   "source": [
    "From the Given Data of Stock we conclude the following in points"
   ]
  },
  {
   "cell_type": "raw",
   "id": "46d9d339-75f4-4404-85a3-306afadfd6b9",
   "metadata": {},
   "source": [
    "1. Collected the data using the pandas function.\n",
    "2. Using the function .info() we found out the details of the data.\n",
    "3. Using function .columns we found the column names.\n",
    "4. Using function .shape we found the shape of the data = (248,8)\n",
    "5. Using function .sum() we found the sum of the following columns\n",
    "        a.) Volume = 7956361800\n",
    "        b.) High = 54044.07611846924\n",
    "        c.) Low =  52748.96798706055\n",
    "6. Using function .describe() we found out the following values in the data\n",
    "        Count = 248; Mean , St. Deviation ; Minimum ; Maximum ; 25% ; 50% ; 75%\n",
    "7. Using Libraries such as Matplotlib and Seaborn analyzed the data using various graphs."
   ]
  },
  {
   "cell_type": "code",
   "execution_count": null,
   "id": "177cbf9f-2893-4a9a-8874-2280746ffc8a",
   "metadata": {},
   "outputs": [],
   "source": []
  }
 ],
 "metadata": {
  "kernelspec": {
   "display_name": "Python 3 (ipykernel)",
   "language": "python",
   "name": "python3"
  },
  "language_info": {
   "codemirror_mode": {
    "name": "ipython",
    "version": 3
   },
   "file_extension": ".py",
   "mimetype": "text/x-python",
   "name": "python",
   "nbconvert_exporter": "python",
   "pygments_lexer": "ipython3",
   "version": "3.12.4"
  }
 },
 "nbformat": 4,
 "nbformat_minor": 5
}
